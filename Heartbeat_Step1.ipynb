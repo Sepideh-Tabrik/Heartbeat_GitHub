{
  "nbformat": 4,
  "nbformat_minor": 0,
  "metadata": {
    "colab": {
      "provenance": [],
      "authorship_tag": "ABX9TyM6zaPRedkpaVxuvcdm0Juy",
      "include_colab_link": true
    },
    "kernelspec": {
      "name": "python3",
      "display_name": "Python 3"
    },
    "language_info": {
      "name": "python"
    }
  },
  "cells": [
    {
      "cell_type": "markdown",
      "metadata": {
        "id": "view-in-github",
        "colab_type": "text"
      },
      "source": [
        "<a href=\"https://colab.research.google.com/github/Sepideh-Tabrik/Heartbeat_GitHub/blob/main/Heartbeat_Step1.ipynb\" target=\"_parent\"><img src=\"https://colab.research.google.com/assets/colab-badge.svg\" alt=\"Open In Colab\"/></a>"
      ]
    },
    {
      "cell_type": "code",
      "execution_count": 1,
      "metadata": {
        "colab": {
          "base_uri": "https://localhost:8080/"
        },
        "id": "r5-XAb1V2qBW",
        "outputId": "f615eece-bd6f-4dd1-8fec-46536f1d7c26"
      },
      "outputs": [
        {
          "output_type": "stream",
          "name": "stdout",
          "text": [
            "Mounted at /content/drive\n",
            "/content/drive/MyDrive/Heartbeat_Project\n"
          ]
        }
      ],
      "source": [
        "# Install necessary libraries quietly\n",
        "# !pip install tensorflow -q\n",
        "# !pip install keras -q\n",
        "# !pip install scikit-learn -q\n",
        "# !pip install pandas -q\n",
        "# !pip install numpy -q\n",
        "# !pip install matplotlib -q\n",
        "\n",
        "# Verify installation and import libraries\n",
        "import tensorflow as tf\n",
        "import keras\n",
        "import sklearn\n",
        "import pandas as pd\n",
        "import numpy as np\n",
        "import matplotlib.pyplot as plt\n",
        "\n",
        "# Print the versions\n",
        "# print(\"TensorFlow version:\", tf.__version__)\n",
        "# print(\"Keras version:\", keras.__version__)\n",
        "# print(\"Scikit-learn version:\", sklearn.__version__)\n",
        "# print(\"Pandas version:\", pd.__version__)\n",
        "# print(\"NumPy version:\", np.__version__)\n",
        "# print(\"Matplotlib version:\", matplotlib.__version__)\n",
        "\n",
        "# # Install the Kaggle library if you want to download the data set from Kaggle\n",
        "# !pip install kaggle\n",
        "# # Upload your Kaggle API key\n",
        "# from google.colab import files\n",
        "# files.upload()\n",
        "# # Move the API key to the appropriate directory\n",
        "# !mkdir ~/.kaggle\n",
        "# !cp kaggle.json ~/.kaggle/\n",
        "# !chmod 600 ~/.kaggle/kaggle.json\n",
        "# # Download the dataset\n",
        "# !kaggle datasets download -d shayanfazeli/heartbeat\n",
        "# # Unzip the dataset and remove the zip file\n",
        "# !unzip heartbeat.zip\n",
        "# !rm heartbeat.zip\n",
        "# !rm -r /content/sample_data\n",
        "\n",
        "# Mount Google Drive in Colab if I want to upload the dataset from Google Drive:\n",
        "from google.colab import drive\n",
        "drive.mount('/content/drive')\n",
        "#Clone the Repository in Colab:\n",
        "%cd /content/drive/MyDrive/Heartbeat_Project\n",
        "# only if I want to pull my changes\n",
        "# %cd /content/drive/MyDrive/Heartbeat_Project/Heartbeat_GitHub\n",
        "# !git pull origin main\n",
        "\n",
        "# !git clone https://github.com/Sepideh-Tabrik/Heartbeat_GitHub.git\n",
        "\n",
        "# # Use these commands to add, commit, and push changes to GitHub or use Colab’s GitHub integration\n",
        "# !git config --global user.email \"sepideh.tabrik@gmail.com\"\n",
        "# !git config --global user.name \"Sepideh-Tabrik\"\n",
        "# !git clone https://github.com/Sepideh-Tabrik/Heartbeat\n",
        "\n",
        "# cd Heartbeat/\n",
        "# #Call git_push(\"Your commit message\") whenever you want to backup your changes.\n",
        "# def git_push(commit_message):\n",
        "#     !git add .\n",
        "#     !git commit -m {commit_message}\n",
        "#     !git push origin main # Make sure to replace main with the appropriate branch name if you’re using a different branch.\n",
        "# # Pull Changes Made by Team Members: To get the latest changes made by your team members, pull the changes from GitHub:\n",
        "# #!git pull origin main\n",
        "\n",
        "\n",
        "#Access the dataset in Colab only one time you need to run these lines\n",
        "# import os\n",
        "# folder_path = '/content/drive/My Drive/Heartbeat_Project'\n",
        "# os.chdir(folder_path)\n",
        "# !unzip -q Heartbeat_Dataset.zip\n",
        "\n",
        "dataset_path = '/content/drive/My Drive/Heartbeat_Project'\n",
        "\n",
        "# remove the sample_data directory and all of its contents\n",
        "!rm -rf /content/sample_data"
      ]
    }
  ]
}